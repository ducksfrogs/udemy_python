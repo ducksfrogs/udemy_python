{
 "cells": [
  {
   "cell_type": "code",
   "execution_count": 3,
   "metadata": {},
   "outputs": [],
   "source": [
    "from turtle import *"
   ]
  },
  {
   "cell_type": "code",
   "execution_count": 5,
   "metadata": {},
   "outputs": [
    {
     "ename": "Terminator",
     "evalue": "",
     "output_type": "error",
     "traceback": [
      "\u001b[0;31m---------------------------------------------------------------------------\u001b[0m",
      "\u001b[0;31mTerminator\u001b[0m                                Traceback (most recent call last)",
      "\u001b[0;32m<ipython-input-5-f7e511445dcb>\u001b[0m in \u001b[0;36m<module>\u001b[0;34m\u001b[0m\n\u001b[1;32m      1\u001b[0m \u001b[0mcolor\u001b[0m\u001b[0;34m(\u001b[0m\u001b[0;34m'red'\u001b[0m\u001b[0;34m,\u001b[0m\u001b[0;34m'yellow'\u001b[0m\u001b[0;34m)\u001b[0m\u001b[0;34m\u001b[0m\u001b[0;34m\u001b[0m\u001b[0m\n\u001b[0;32m----> 2\u001b[0;31m \u001b[0mforward\u001b[0m\u001b[0;34m(\u001b[0m\u001b[0;36m200\u001b[0m\u001b[0;34m)\u001b[0m\u001b[0;34m\u001b[0m\u001b[0;34m\u001b[0m\u001b[0m\n\u001b[0m\u001b[1;32m      3\u001b[0m \u001b[0mdone\u001b[0m\u001b[0;34m(\u001b[0m\u001b[0;34m)\u001b[0m\u001b[0;34m\u001b[0m\u001b[0;34m\u001b[0m\u001b[0m\n",
      "\u001b[0;32m~/.bin/anaconda3/lib/python3.7/turtle.py\u001b[0m in \u001b[0;36mforward\u001b[0;34m(distance)\u001b[0m\n",
      "\u001b[0;31mTerminator\u001b[0m: "
     ]
    }
   ],
   "source": [
    "color('red','yellow')\n",
    "forward(200)\n",
    "done()"
   ]
  },
  {
   "cell_type": "code",
   "execution_count": 6,
   "metadata": {},
   "outputs": [
    {
     "data": {
      "text/plain": [
       "<module 'builtins' (built-in)>"
      ]
     },
     "execution_count": 6,
     "metadata": {},
     "output_type": "execute_result"
    }
   ],
   "source": [
    "__builtins__"
   ]
  },
  {
   "cell_type": "code",
   "execution_count": 7,
   "metadata": {},
   "outputs": [
    {
     "data": {
      "text/plain": [
       "['In',\n",
       " 'Out',\n",
       " 'Pen',\n",
       " 'RawPen',\n",
       " 'RawTurtle',\n",
       " 'Screen',\n",
       " 'ScrolledCanvas',\n",
       " 'Shape',\n",
       " 'Terminator',\n",
       " 'Turtle',\n",
       " 'TurtleScreen',\n",
       " 'Vec2D',\n",
       " '_',\n",
       " '_6',\n",
       " '__',\n",
       " '___',\n",
       " '__builtin__',\n",
       " '__builtins__',\n",
       " '__doc__',\n",
       " '__loader__',\n",
       " '__name__',\n",
       " '__package__',\n",
       " '__spec__',\n",
       " '_dh',\n",
       " '_i',\n",
       " '_i1',\n",
       " '_i2',\n",
       " '_i3',\n",
       " '_i4',\n",
       " '_i5',\n",
       " '_i6',\n",
       " '_i7',\n",
       " '_ih',\n",
       " '_ii',\n",
       " '_iii',\n",
       " '_oh',\n",
       " 'addshape',\n",
       " 'back',\n",
       " 'backward',\n",
       " 'begin_fill',\n",
       " 'begin_poly',\n",
       " 'bgcolor',\n",
       " 'bgpic',\n",
       " 'bk',\n",
       " 'bye',\n",
       " 'circle',\n",
       " 'clear',\n",
       " 'clearscreen',\n",
       " 'clearstamp',\n",
       " 'clearstamps',\n",
       " 'clone',\n",
       " 'color',\n",
       " 'colormode',\n",
       " 'degrees',\n",
       " 'delay',\n",
       " 'distance',\n",
       " 'done',\n",
       " 'dot',\n",
       " 'down',\n",
       " 'end_fill',\n",
       " 'end_poly',\n",
       " 'exit',\n",
       " 'exitonclick',\n",
       " 'fd',\n",
       " 'fillcolor',\n",
       " 'filling',\n",
       " 'forward',\n",
       " 'get_ipython',\n",
       " 'get_poly',\n",
       " 'get_shapepoly',\n",
       " 'getcanvas',\n",
       " 'getpen',\n",
       " 'getscreen',\n",
       " 'getshapes',\n",
       " 'getturtle',\n",
       " 'goto',\n",
       " 'heading',\n",
       " 'hideturtle',\n",
       " 'home',\n",
       " 'ht',\n",
       " 'isdown',\n",
       " 'isvisible',\n",
       " 'left',\n",
       " 'listen',\n",
       " 'lt',\n",
       " 'mainloop',\n",
       " 'mode',\n",
       " 'numinput',\n",
       " 'onclick',\n",
       " 'ondrag',\n",
       " 'onkey',\n",
       " 'onkeypress',\n",
       " 'onkeyrelease',\n",
       " 'onrelease',\n",
       " 'onscreenclick',\n",
       " 'ontimer',\n",
       " 'pd',\n",
       " 'pen',\n",
       " 'pencolor',\n",
       " 'pendown',\n",
       " 'pensize',\n",
       " 'penup',\n",
       " 'pos',\n",
       " 'position',\n",
       " 'pu',\n",
       " 'quit',\n",
       " 'radians',\n",
       " 'register_shape',\n",
       " 'reset',\n",
       " 'resetscreen',\n",
       " 'resizemode',\n",
       " 'right',\n",
       " 'rt',\n",
       " 'screensize',\n",
       " 'seth',\n",
       " 'setheading',\n",
       " 'setpos',\n",
       " 'setposition',\n",
       " 'settiltangle',\n",
       " 'setundobuffer',\n",
       " 'setup',\n",
       " 'setworldcoordinates',\n",
       " 'setx',\n",
       " 'sety',\n",
       " 'shape',\n",
       " 'shapesize',\n",
       " 'shapetransform',\n",
       " 'shearfactor',\n",
       " 'showturtle',\n",
       " 'speed',\n",
       " 'st',\n",
       " 'stamp',\n",
       " 'textinput',\n",
       " 'tilt',\n",
       " 'tiltangle',\n",
       " 'title',\n",
       " 'towards',\n",
       " 'tracer',\n",
       " 'turtle',\n",
       " 'turtles',\n",
       " 'turtlesize',\n",
       " 'undo',\n",
       " 'undobufferentries',\n",
       " 'up',\n",
       " 'update',\n",
       " 'width',\n",
       " 'window_height',\n",
       " 'window_width',\n",
       " 'write',\n",
       " 'write_docstringdict',\n",
       " 'xcor',\n",
       " 'ycor']"
      ]
     },
     "execution_count": 7,
     "metadata": {},
     "output_type": "execute_result"
    }
   ],
   "source": [
    "dir()"
   ]
  },
  {
   "cell_type": "code",
   "execution_count": null,
   "metadata": {},
   "outputs": [],
   "source": []
  }
 ],
 "metadata": {
  "kernelspec": {
   "display_name": "Python 3",
   "language": "python",
   "name": "python3"
  },
  "language_info": {
   "codemirror_mode": {
    "name": "ipython",
    "version": 3
   },
   "file_extension": ".py",
   "mimetype": "text/x-python",
   "name": "python",
   "nbconvert_exporter": "python",
   "pygments_lexer": "ipython3",
   "version": "3.7.3"
  }
 },
 "nbformat": 4,
 "nbformat_minor": 2
}
