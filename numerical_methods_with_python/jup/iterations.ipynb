{
 "cells": [
  {
   "cell_type": "markdown",
   "metadata": {},
   "source": [
    "## Simple Iterations Method"
   ]
  },
  {
   "cell_type": "code",
   "execution_count": 9,
   "metadata": {},
   "outputs": [
    {
     "name": "stdout",
     "output_type": "stream",
     "text": [
      "1.5\n",
      "The root: 1.50000 \n",
      "The number iteration : 1 \n"
     ]
    }
   ],
   "source": [
    "x = 1.5\n",
    "for iteration in range(1,101):\n",
    "    xnew = (2*x**2 + 3)/5\n",
    "    print(x)\n",
    "    if abs(xnew -x) < 0.000001:\n",
    "        break\n",
    "    x = xnew\n",
    "print('The root: %0.5f ' %  xnew)\n",
    "print('The number iteration : %d ' %  iteration)"
   ]
  },
  {
   "cell_type": "code",
   "execution_count": 15,
   "metadata": {},
   "outputs": [
    {
     "name": "stdout",
     "output_type": "stream",
     "text": [
      "The root: 1.50000 \n",
      "The number iteration : 61 \n"
     ]
    }
   ],
   "source": [
    "from math import sqrt\n",
    "x = 1.3\n",
    "for iteration in range(1,101):\n",
    "    xnew = sqrt((5*x-3)/2)\n",
    "    if abs(xnew -x) < 0.000001:\n",
    "        break\n",
    "    x = xnew\n",
    "print('The root: %0.5f ' %  xnew)\n",
    "print('The number iteration : %d ' %  iteration)"
   ]
  },
  {
   "cell_type": "code",
   "execution_count": 18,
   "metadata": {},
   "outputs": [],
   "source": [
    "from sympy import *"
   ]
  },
  {
   "cell_type": "code",
   "execution_count": 19,
   "metadata": {},
   "outputs": [],
   "source": [
    "init_printing()"
   ]
  },
  {
   "cell_type": "code",
   "execution_count": 20,
   "metadata": {},
   "outputs": [],
   "source": [
    "x, y = symbols('x,y')"
   ]
  },
  {
   "cell_type": "code",
   "execution_count": 21,
   "metadata": {},
   "outputs": [],
   "source": [
    "a =2*x**2 -5*x +3"
   ]
  },
  {
   "cell_type": "code",
   "execution_count": 22,
   "metadata": {
    "scrolled": true
   },
   "outputs": [
    {
     "data": {
      "image/png": "[encoded data removed]",
      "text/latex": [
       "$$2 x^{2} - 5 x + 3$$"
      ],
      "text/plain": [
       "   2          \n",
       "2⋅x  - 5⋅x + 3"
      ]
     },
     "execution_count": 22,
     "metadata": {},
     "output_type": "execute_result"
    }
   ],
   "source": [
    "a"
   ]
  },
  {
   "cell_type": "code",
   "execution_count": 3,
   "metadata": {},
   "outputs": [
    {
     "name": "stdout",
     "output_type": "stream",
     "text": [
      "The root: 0.99997 \n",
      "The number of iteration: 38 \n"
     ]
    }
   ],
   "source": [
    "x = 0\n",
    "xnew = 0.7 \n",
    "iteration = 0\n",
    "while abs(xnew - x) >= 0.00001:\n",
    "    iteration +=1\n",
    "    \n",
    "    x = xnew\n",
    "    xnew = (2*x**2 +3)/5\n",
    "    \n",
    "print('The root: %0.5f ' %  xnew)\n",
    "print('The number of iteration: %d ' %  iteration)"
   ]
  },
  {
   "cell_type": "markdown",
   "metadata": {},
   "source": [
    "## Newton-Raphsons Method"
   ]
  },
  {
   "cell_type": "code",
   "execution_count": 23,
   "metadata": {},
   "outputs": [
    {
     "data": {
      "image/png": "[encoded data removed]",
      "text/latex": [
       "$$4 x - 5$$"
      ],
      "text/plain": [
       "4⋅x - 5"
      ]
     },
     "execution_count": 23,
     "metadata": {},
     "output_type": "execute_result"
    }
   ],
   "source": [
    "diff(a)"
   ]
  },
  {
   "cell_type": "code",
   "execution_count": 13,
   "metadata": {},
   "outputs": [
    {
     "name": "stdout",
     "output_type": "stream",
     "text": [
      "The root: 1.00000 \n",
      "The number of iteration: 19 \n"
     ]
    }
   ],
   "source": [
    "x = -20000\n",
    "for i in range(100):\n",
    "    xnew = x -(2*x**2-5*x+3)/(4*x-5)\n",
    "    if abs(xnew -x ) < 0.00001:\n",
    "        break\n",
    "    x = xnew\n",
    "    \n",
    "\n",
    "print('The root: %0.5f ' %  xnew)\n",
    "print('The number of iteration: %d ' %  i)\n",
    "    "
   ]
  },
  {
   "cell_type": "code",
   "execution_count": 24,
   "metadata": {},
   "outputs": [],
   "source": [
    "b = x**2 + (cos(x))**2 -4*x"
   ]
  },
  {
   "cell_type": "code",
   "execution_count": 25,
   "metadata": {},
   "outputs": [
    {
     "data": {
      "image/png": "[encoded data removed]",
      "text/latex": [
       "$$x^{2} - 4 x + \\cos^{2}{\\left (x \\right )}$$"
      ],
      "text/plain": [
       " 2            2   \n",
       "x  - 4⋅x + cos (x)"
      ]
     },
     "execution_count": 25,
     "metadata": {},
     "output_type": "execute_result"
    }
   ],
   "source": [
    "b"
   ]
  },
  {
   "cell_type": "code",
   "execution_count": 26,
   "metadata": {},
   "outputs": [
    {
     "data": {
      "image/png": "[encoded data removed]",
      "text/latex": [
       "$$2 x - 2 \\sin{\\left (x \\right )} \\cos{\\left (x \\right )} - 4$$"
      ],
      "text/plain": [
       "2⋅x - 2⋅sin(x)⋅cos(x) - 4"
      ]
     },
     "execution_count": 26,
     "metadata": {},
     "output_type": "execute_result"
    }
   ],
   "source": [
    "diff(b)"
   ]
  },
  {
   "cell_type": "code",
   "execution_count": 33,
   "metadata": {},
   "outputs": [
    {
     "name": "stdout",
     "output_type": "stream",
     "text": [
      "The root: 225591306812130368.00000 \n",
      "The number of iteration: 99 \n"
     ]
    }
   ],
   "source": [
    "from math import cos, sin\n",
    "x = 5\n",
    "for i in range(100):\n",
    "    xnew = x -(x**2-4*x+cos(x)**2)/(2*(x-2*x-sin(x)*cos(x) -2))\n",
    "    if abs(xnew -x ) < 0.00001:\n",
    "        break\n",
    "    x = xnew\n",
    "    \n",
    "\n",
    "print('The root: %0.5f ' %  xnew)\n",
    "print('The number of iteration: %d ' %  i)\n",
    "    "
   ]
  },
  {
   "cell_type": "code",
   "execution_count": 28,
   "metadata": {},
   "outputs": [
    {
     "data": {
      "image/png": "[encoded data removed]",
      "text/latex": [
       "$$\\cos{\\left (20000 \\right )}$$"
      ],
      "text/plain": [
       "cos(20000)"
      ]
     },
     "execution_count": 28,
     "metadata": {},
     "output_type": "execute_result"
    }
   ],
   "source": [
    "cos(x)"
   ]
  },
  {
   "cell_type": "code",
   "execution_count": null,
   "metadata": {},
   "outputs": [],
   "source": []
  }
 ],
 "metadata": {
  "kernelspec": {
   "display_name": "Python 3",
   "language": "python",
   "name": "python3"
  },
  "language_info": {
   "codemirror_mode": {
    "name": "ipython",
    "version": 3
   },
   "file_extension": ".py",
   "mimetype": "text/x-python",
   "name": "python",
   "nbconvert_exporter": "python",
   "pygments_lexer": "ipython3",
   "version": "3.7.3"
  }
 },
 "nbformat": 4,
 "nbformat_minor": 2
}
