{
 "cells": [
  {
   "cell_type": "code",
   "execution_count": 10,
   "metadata": {},
   "outputs": [],
   "source": [
    "import numpy as np\n",
    "import matplotlib.pyplot as plt\n",
    "%matplotlib inline"
   ]
  },
  {
   "cell_type": "code",
   "execution_count": 4,
   "metadata": {},
   "outputs": [],
   "source": [
    "x = [0, 20, 40, 60, 80, 100]\n",
    "y = [26.0, 48,6, 61.6, 71.2, 74.8, 75.2]"
   ]
  },
  {
   "cell_type": "code",
   "execution_count": 5,
   "metadata": {},
   "outputs": [
    {
     "name": "stdout",
     "output_type": "stream",
     "text": [
      "Enter x : 50\n",
      "For x = 50.0, y = 29.1\n"
     ]
    }
   ],
   "source": [
    "m = len(x)\n",
    "n = m -1\n",
    "xp = float(input(\"Enter x : \"))\n",
    "yp = 0\n",
    "for i in range(n+1):\n",
    "    L=1\n",
    "    for j in range(n+1):\n",
    "        if j != i:\n",
    "            L *= (xp - x[j])/(x[i] -x[j])\n",
    "    yp += y[i]*L\n",
    "    \n",
    "    \n",
    "print('For x = %.1f, y = %.1f' % (xp, yp))"
   ]
  },
  {
   "cell_type": "code",
   "execution_count": null,
   "metadata": {},
   "outputs": [],
   "source": [
    "x = [3,4,]"
   ]
  },
  {
   "cell_type": "code",
   "execution_count": 6,
   "metadata": {},
   "outputs": [
    {
     "name": "stdout",
     "output_type": "stream",
     "text": [
      "Enter x : 50\n",
      "For x = 50.0, y = 66.9\n"
     ]
    }
   ],
   "source": [
    "x = [0, 20, 40, 60, 80, 100]\n",
    "y = [26.0, 48.6, 61.6, 71.2, 74.8, 75.2]\n",
    "m = len(x)\n",
    "n = m-1\n",
    "xp = float(input('Enter x : '))\n",
    "yp = 0\n",
    "for i in range(n+1):\n",
    "    L = 1\n",
    "    for j in range(n+1):\n",
    "        if j != i:\n",
    "            L *= (xp - x[j])/(x[i] - x[j])\n",
    "    yp += y[i]*L\n",
    "print('For x = %.1f, y = %.1f' % (xp,yp))\n"
   ]
  },
  {
   "cell_type": "code",
   "execution_count": 7,
   "metadata": {},
   "outputs": [],
   "source": [
    "x = [3, 4, 5, 6, 7,8]\n",
    "y = [0, 7, 17, 26, 35, 45]"
   ]
  },
  {
   "cell_type": "code",
   "execution_count": 9,
   "metadata": {},
   "outputs": [
    {
     "name": "stdout",
     "output_type": "stream",
     "text": [
      "tthe strait line equation\n",
      "y =(-28.305)+(9.086)x\n"
     ]
    }
   ],
   "source": [
    "sumx = sumxy = sumx2 = sumy =0\n",
    "n = len(x)\n",
    "for i in range(n):\n",
    "    sumx += x[i]\n",
    "    sumy += y[i]\n",
    "    sumx2 += x[i]**2\n",
    "    sumxy += x[i]*y[i]\n",
    "xm = sumx / n\n",
    "ym = sumy / n\n",
    "\n",
    "a = (ym*sumx2-xm*sumxy)/(sumx2 - n*xm**2)\n",
    "\n",
    "b = (sumxy - xm*sumy)/(sumx2 - n*xm**2)\n",
    "\n",
    "print('tthe strait line equation')\n",
    "print('y =(%.3f)+(%.3f)x' %(a,b))\n",
    "    \n"
   ]
  },
  {
   "cell_type": "code",
   "execution_count": 12,
   "metadata": {},
   "outputs": [],
   "source": [
    "x = np.array([3, 4, 5, 6, 7,8])\n",
    "y = np.array([0, 7, 17, 26, 35, 45])"
   ]
  },
  {
   "cell_type": "code",
   "execution_count": 16,
   "metadata": {},
   "outputs": [
    {
     "name": "stdout",
     "output_type": "stream",
     "text": [
      "tthe strait line equation\n",
      "y =(-28.305)+(9.086)x\n"
     ]
    }
   ],
   "source": [
    "n = len(x)\n",
    "\n",
    "a = (np.mean(y)*np.sum(x**2) - np.mean(x)*np.sum(x*y))/(np.sum(x**2)-n*np.mean(x)**2)\n",
    "b = (np.sum(x*y)- np.mean(x)*np.sum(y))/(np.sum(x**2)-n*np.mean(x)**2)\n",
    "\n",
    "print('tthe strait line equation')\n",
    "print('y =(%.3f)+(%.3f)x' %(a,b))\n",
    "    "
   ]
  },
  {
   "cell_type": "code",
   "execution_count": null,
   "metadata": {},
   "outputs": [],
   "source": []
  }
 ],
 "metadata": {
  "kernelspec": {
   "display_name": "Python 3",
   "language": "python",
   "name": "python3"
  },
  "language_info": {
   "codemirror_mode": {
    "name": "ipython",
    "version": 3
   },
   "file_extension": ".py",
   "mimetype": "text/x-python",
   "name": "python",
   "nbconvert_exporter": "python",
   "pygments_lexer": "ipython3",
   "version": "3.7.3"
  }
 },
 "nbformat": 4,
 "nbformat_minor": 2
}
