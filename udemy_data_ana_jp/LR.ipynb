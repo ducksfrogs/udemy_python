{
 "cells": [
  {
   "cell_type": "code",
   "execution_count": 1,
   "metadata": {
    "collapsed": true
   },
   "outputs": [],
   "source": [
    "import pandas as pd\n",
    "import numpy as np\n",
    "from matplotlib import pyplot as plt\n",
    "%matplotlib inline\n",
    "from sklearn.linear_model import LinearRegression as LR"
   ]
  },
  {
   "cell_type": "code",
   "execution_count": 2,
   "metadata": {
    "collapsed": true
   },
   "outputs": [],
   "source": [
    "train = pd.read_csv(\"obent/train.csv\")"
   ]
  },
  {
   "cell_type": "code",
   "execution_count": 3,
   "metadata": {
    "collapsed": true
   },
   "outputs": [],
   "source": [
    "test= pd.read_csv(\"obent/test.csv\")\n",
    "sample = pd.read_csv(\"obent/sample.csv\",header=None)"
   ]
  },
  {
   "cell_type": "code",
   "execution_count": 4,
   "metadata": {},
   "outputs": [
    {
     "data": {
      "text/html": [
       "<div>\n",
       "<table border=\"1\" class=\"dataframe\">\n",
       "  <thead>\n",
       "    <tr style=\"text-align: right;\">\n",
       "      <th></th>\n",
       "      <th>datetime</th>\n",
       "      <th>y</th>\n",
       "      <th>week</th>\n",
       "      <th>soldout</th>\n",
       "      <th>name</th>\n",
       "      <th>kcal</th>\n",
       "      <th>remarks</th>\n",
       "      <th>event</th>\n",
       "      <th>payday</th>\n",
       "      <th>weather</th>\n",
       "      <th>precipitation</th>\n",
       "      <th>temperature</th>\n",
       "    </tr>\n",
       "  </thead>\n",
       "  <tbody>\n",
       "    <tr>\n",
       "      <th>0</th>\n",
       "      <td>2013-11-18</td>\n",
       "      <td>90</td>\n",
       "      <td>月</td>\n",
       "      <td>0</td>\n",
       "      <td>厚切りイカフライ</td>\n",
       "      <td>NaN</td>\n",
       "      <td>NaN</td>\n",
       "      <td>NaN</td>\n",
       "      <td>NaN</td>\n",
       "      <td>快晴</td>\n",
       "      <td>--</td>\n",
       "      <td>19.8</td>\n",
       "    </tr>\n",
       "    <tr>\n",
       "      <th>1</th>\n",
       "      <td>2013-11-19</td>\n",
       "      <td>101</td>\n",
       "      <td>火</td>\n",
       "      <td>1</td>\n",
       "      <td>手作りヒレカツ</td>\n",
       "      <td>NaN</td>\n",
       "      <td>NaN</td>\n",
       "      <td>NaN</td>\n",
       "      <td>NaN</td>\n",
       "      <td>快晴</td>\n",
       "      <td>--</td>\n",
       "      <td>17.0</td>\n",
       "    </tr>\n",
       "    <tr>\n",
       "      <th>2</th>\n",
       "      <td>2013-11-20</td>\n",
       "      <td>118</td>\n",
       "      <td>水</td>\n",
       "      <td>0</td>\n",
       "      <td>白身魚唐揚げ野菜あん</td>\n",
       "      <td>NaN</td>\n",
       "      <td>NaN</td>\n",
       "      <td>NaN</td>\n",
       "      <td>NaN</td>\n",
       "      <td>快晴</td>\n",
       "      <td>--</td>\n",
       "      <td>15.5</td>\n",
       "    </tr>\n",
       "    <tr>\n",
       "      <th>3</th>\n",
       "      <td>2013-11-21</td>\n",
       "      <td>120</td>\n",
       "      <td>木</td>\n",
       "      <td>1</td>\n",
       "      <td>若鶏ピリ辛焼</td>\n",
       "      <td>NaN</td>\n",
       "      <td>NaN</td>\n",
       "      <td>NaN</td>\n",
       "      <td>NaN</td>\n",
       "      <td>快晴</td>\n",
       "      <td>--</td>\n",
       "      <td>15.2</td>\n",
       "    </tr>\n",
       "    <tr>\n",
       "      <th>4</th>\n",
       "      <td>2013-11-22</td>\n",
       "      <td>130</td>\n",
       "      <td>金</td>\n",
       "      <td>1</td>\n",
       "      <td>ビッグメンチカツ</td>\n",
       "      <td>NaN</td>\n",
       "      <td>NaN</td>\n",
       "      <td>NaN</td>\n",
       "      <td>NaN</td>\n",
       "      <td>快晴</td>\n",
       "      <td>--</td>\n",
       "      <td>16.1</td>\n",
       "    </tr>\n",
       "  </tbody>\n",
       "</table>\n",
       "</div>"
      ],
      "text/plain": [
       "     datetime    y week  soldout        name  kcal remarks event  payday  \\\n",
       "0  2013-11-18   90    月        0    厚切りイカフライ   NaN     NaN   NaN     NaN   \n",
       "1  2013-11-19  101    火        1     手作りヒレカツ   NaN     NaN   NaN     NaN   \n",
       "2  2013-11-20  118    水        0  白身魚唐揚げ野菜あん   NaN     NaN   NaN     NaN   \n",
       "3  2013-11-21  120    木        1      若鶏ピリ辛焼   NaN     NaN   NaN     NaN   \n",
       "4  2013-11-22  130    金        1    ビッグメンチカツ   NaN     NaN   NaN     NaN   \n",
       "\n",
       "  weather precipitation  temperature  \n",
       "0      快晴            --         19.8  \n",
       "1      快晴            --         17.0  \n",
       "2      快晴            --         15.5  \n",
       "3      快晴            --         15.2  \n",
       "4      快晴            --         16.1  "
      ]
     },
     "execution_count": 4,
     "metadata": {},
     "output_type": "execute_result"
    }
   ],
   "source": [
    "train.head()\n"
   ]
  },
  {
   "cell_type": "code",
   "execution_count": 5,
   "metadata": {
    "collapsed": true
   },
   "outputs": [],
   "source": [
    "trainX=train[\"temperature\"]\n",
    "y = train[\"y\"]"
   ]
  },
  {
   "cell_type": "code",
   "execution_count": 6,
   "metadata": {
    "scrolled": true
   },
   "outputs": [
    {
     "data": {
      "text/plain": [
       "0      19.8\n",
       "1      17.0\n",
       "2      15.5\n",
       "3      15.2\n",
       "4      16.1\n",
       "5      14.6\n",
       "6      17.9\n",
       "7      14.7\n",
       "8      17.7\n",
       "9      12.1\n",
       "10     13.8\n",
       "11     13.9\n",
       "12     13.5\n",
       "13     13.8\n",
       "14     14.9\n",
       "15      9.1\n",
       "16      7.1\n",
       "17     11.0\n",
       "18     12.3\n",
       "19     13.9\n",
       "20     11.3\n",
       "21     10.8\n",
       "22      7.8\n",
       "23      6.8\n",
       "24      8.4\n",
       "25     11.5\n",
       "26      8.0\n",
       "27      7.3\n",
       "28      7.3\n",
       "29      9.8\n",
       "       ... \n",
       "177    32.2\n",
       "178    33.3\n",
       "179    33.3\n",
       "180    33.0\n",
       "181    33.1\n",
       "182    26.0\n",
       "183    26.2\n",
       "184    21.0\n",
       "185    21.6\n",
       "186    25.1\n",
       "187    23.4\n",
       "188    29.1\n",
       "189    26.7\n",
       "190    26.5\n",
       "191    30.2\n",
       "192    23.1\n",
       "193    26.8\n",
       "194    25.0\n",
       "195    21.9\n",
       "196    27.3\n",
       "197    28.8\n",
       "198    25.0\n",
       "199    24.1\n",
       "200    23.6\n",
       "201    25.2\n",
       "202    24.8\n",
       "203    25.4\n",
       "204    27.1\n",
       "205    26.6\n",
       "206    28.1\n",
       "Name: temperature, dtype: float64"
      ]
     },
     "execution_count": 6,
     "metadata": {},
     "output_type": "execute_result"
    }
   ],
   "source": [
    "trainX"
   ]
  },
  {
   "cell_type": "code",
   "execution_count": 7,
   "metadata": {
    "collapsed": true
   },
   "outputs": [],
   "source": [
    "testX = test[\"temperature\"]"
   ]
  },
  {
   "cell_type": "code",
   "execution_count": 8,
   "metadata": {
    "collapsed": true
   },
   "outputs": [],
   "source": [
    "trainX= trainX.values.reshape(-1,1)\n",
    "testX = testX.values.reshape(-1,1)"
   ]
  },
  {
   "cell_type": "code",
   "execution_count": 9,
   "metadata": {},
   "outputs": [
    {
     "data": {
      "text/plain": [
       "array([[ 19.8],\n",
       "       [ 17. ],\n",
       "       [ 15.5],\n",
       "       [ 15.2],\n",
       "       [ 16.1],\n",
       "       [ 14.6],\n",
       "       [ 17.9],\n",
       "       [ 14.7],\n",
       "       [ 17.7],\n",
       "       [ 12.1],\n",
       "       [ 13.8],\n",
       "       [ 13.9],\n",
       "       [ 13.5],\n",
       "       [ 13.8],\n",
       "       [ 14.9],\n",
       "       [  9.1],\n",
       "       [  7.1],\n",
       "       [ 11. ],\n",
       "       [ 12.3],\n",
       "       [ 13.9],\n",
       "       [ 11.3],\n",
       "       [ 10.8],\n",
       "       [  7.8],\n",
       "       [  6.8],\n",
       "       [  8.4],\n",
       "       [ 11.5],\n",
       "       [  8. ],\n",
       "       [  7.3],\n",
       "       [  7.3],\n",
       "       [  9.8],\n",
       "       [ 10.9],\n",
       "       [  5.1],\n",
       "       [  5.8],\n",
       "       [  2.9],\n",
       "       [  7. ],\n",
       "       [  7.8],\n",
       "       [  6.5],\n",
       "       [ 10.4],\n",
       "       [  7.4],\n",
       "       [  8.5],\n",
       "       [ 10.1],\n",
       "       [  5.1],\n",
       "       [ 12.6],\n",
       "       [ 10.3],\n",
       "       [ 15.3],\n",
       "       [ 14.1],\n",
       "       [ 15.9],\n",
       "       [  3.8],\n",
       "       [  3. ],\n",
       "       [  4.2],\n",
       "       [  5.5],\n",
       "       [  7.8],\n",
       "       [  6.3],\n",
       "       [  6.4],\n",
       "       [  1.2],\n",
       "       [ 11.6],\n",
       "       [  6.8],\n",
       "       [  7.3],\n",
       "       [  5.4],\n",
       "       [  8.5],\n",
       "       [  6.6],\n",
       "       [ 10.5],\n",
       "       [ 11.5],\n",
       "       [  8.5],\n",
       "       [ 17.7],\n",
       "       [  7.8],\n",
       "       [  8.3],\n",
       "       [  6.1],\n",
       "       [  6.7],\n",
       "       [  7. ],\n",
       "       [  7.6],\n",
       "       [  8.7],\n",
       "       [ 14.8],\n",
       "       [ 15.2],\n",
       "       [ 11.5],\n",
       "       [ 14. ],\n",
       "       [ 18.9],\n",
       "       [ 12.6],\n",
       "       [  7.5],\n",
       "       [ 17.4],\n",
       "       [ 18.9],\n",
       "       [ 18.7],\n",
       "       [ 12.4],\n",
       "       [ 18.5],\n",
       "       [ 17.5],\n",
       "       [ 16.1],\n",
       "       [ 18.2],\n",
       "       [ 14.3],\n",
       "       [ 17.8],\n",
       "       [ 13.8],\n",
       "       [ 20.1],\n",
       "       [ 19. ],\n",
       "       [ 21.3],\n",
       "       [ 16.5],\n",
       "       [ 16.4],\n",
       "       [ 19.7],\n",
       "       [ 21.5],\n",
       "       [ 20.1],\n",
       "       [ 11.4],\n",
       "       [ 16.4],\n",
       "       [ 18.8],\n",
       "       [ 19.4],\n",
       "       [ 19.9],\n",
       "       [ 20.8],\n",
       "       [ 22.7],\n",
       "       [ 17.5],\n",
       "       [ 24. ],\n",
       "       [ 23.3],\n",
       "       [ 18.9],\n",
       "       [ 21. ],\n",
       "       [ 23.4],\n",
       "       [ 22.7],\n",
       "       [ 18.6],\n",
       "       [ 26. ],\n",
       "       [ 19.3],\n",
       "       [ 23.8],\n",
       "       [ 22.8],\n",
       "       [ 23.9],\n",
       "       [ 17.4],\n",
       "       [ 19. ],\n",
       "       [ 19.8],\n",
       "       [ 23.9],\n",
       "       [ 23.7],\n",
       "       [ 25.7],\n",
       "       [ 26. ],\n",
       "       [ 26.9],\n",
       "       [ 30.6],\n",
       "       [ 27. ],\n",
       "       [ 27.5],\n",
       "       [ 21.5],\n",
       "       [ 19.9],\n",
       "       [ 25. ],\n",
       "       [ 25.5],\n",
       "       [ 22.3],\n",
       "       [ 21.3],\n",
       "       [ 29.5],\n",
       "       [ 28.1],\n",
       "       [ 27.6],\n",
       "       [ 21.9],\n",
       "       [ 27.5],\n",
       "       [ 26.5],\n",
       "       [ 26.9],\n",
       "       [ 23.7],\n",
       "       [ 25.2],\n",
       "       [ 25.2],\n",
       "       [ 25.4],\n",
       "       [ 25.5],\n",
       "       [ 28.3],\n",
       "       [ 28.8],\n",
       "       [ 27. ],\n",
       "       [ 22.1],\n",
       "       [ 24. ],\n",
       "       [ 29.7],\n",
       "       [ 24.6],\n",
       "       [ 28.8],\n",
       "       [ 33.9],\n",
       "       [ 30.9],\n",
       "       [ 30.3],\n",
       "       [ 30.9],\n",
       "       [ 30.1],\n",
       "       [ 25.6],\n",
       "       [ 30.2],\n",
       "       [ 32. ],\n",
       "       [ 32.5],\n",
       "       [ 33.6],\n",
       "       [ 28.9],\n",
       "       [ 30.4],\n",
       "       [ 30.6],\n",
       "       [ 32.5],\n",
       "       [ 32.7],\n",
       "       [ 32.7],\n",
       "       [ 34.3],\n",
       "       [ 34.6],\n",
       "       [ 32.1],\n",
       "       [ 31.1],\n",
       "       [ 32.4],\n",
       "       [ 29.4],\n",
       "       [ 32.2],\n",
       "       [ 33.3],\n",
       "       [ 33.3],\n",
       "       [ 33. ],\n",
       "       [ 33.1],\n",
       "       [ 26. ],\n",
       "       [ 26.2],\n",
       "       [ 21. ],\n",
       "       [ 21.6],\n",
       "       [ 25.1],\n",
       "       [ 23.4],\n",
       "       [ 29.1],\n",
       "       [ 26.7],\n",
       "       [ 26.5],\n",
       "       [ 30.2],\n",
       "       [ 23.1],\n",
       "       [ 26.8],\n",
       "       [ 25. ],\n",
       "       [ 21.9],\n",
       "       [ 27.3],\n",
       "       [ 28.8],\n",
       "       [ 25. ],\n",
       "       [ 24.1],\n",
       "       [ 23.6],\n",
       "       [ 25.2],\n",
       "       [ 24.8],\n",
       "       [ 25.4],\n",
       "       [ 27.1],\n",
       "       [ 26.6],\n",
       "       [ 28.1]])"
      ]
     },
     "execution_count": 9,
     "metadata": {},
     "output_type": "execute_result"
    }
   ],
   "source": [
    "trainX"
   ]
  },
  {
   "cell_type": "code",
   "execution_count": 10,
   "metadata": {
    "collapsed": true
   },
   "outputs": [],
   "source": [
    "model1 = LR()"
   ]
  },
  {
   "cell_type": "code",
   "execution_count": 11,
   "metadata": {},
   "outputs": [
    {
     "data": {
      "text/plain": [
       "LinearRegression(copy_X=True, fit_intercept=True, n_jobs=1, normalize=False)"
      ]
     },
     "execution_count": 11,
     "metadata": {},
     "output_type": "execute_result"
    }
   ],
   "source": [
    "model1.fit(trainX,y)"
   ]
  },
  {
   "cell_type": "code",
   "execution_count": 12,
   "metadata": {},
   "outputs": [
    {
     "data": {
      "text/plain": [
       "array([-2.5023821])"
      ]
     },
     "execution_count": 12,
     "metadata": {},
     "output_type": "execute_result"
    }
   ],
   "source": [
    "model1.coef_"
   ]
  },
  {
   "cell_type": "code",
   "execution_count": 13,
   "metadata": {},
   "outputs": [
    {
     "data": {
      "text/plain": [
       "134.79948383749928"
      ]
     },
     "execution_count": 13,
     "metadata": {},
     "output_type": "execute_result"
    }
   ],
   "source": [
    "model1.intercept_"
   ]
  },
  {
   "cell_type": "code",
   "execution_count": 14,
   "metadata": {
    "collapsed": true
   },
   "outputs": [],
   "source": [
    "pred = model1.predict(testX)"
   ]
  },
  {
   "cell_type": "code",
   "execution_count": 15,
   "metadata": {},
   "outputs": [
    {
     "data": {
      "text/plain": [
       "array([  84.25136537,   74.99255159,   62.9811175 ,   80.99826864,\n",
       "         79.49683938,   76.49398085,   78.49588653,   69.48731097,\n",
       "         67.73564349,   95.76232304,   88.25517673,   77.24469548,\n",
       "         74.99255159,   84.25136537,   96.01256125,   98.01446693,\n",
       "         88.00493852,   77.99541011,   87.00398568,   85.75279463,\n",
       "         85.75279463,   87.75470031,   87.5044621 ,   94.7613702 ,\n",
       "         86.75374747,   84.50160358,   81.74898327,   98.01446693,\n",
       "         98.76518156,   86.00303284,   95.26184662,   99.01541977,\n",
       "         94.51113199,   97.51399051,  108.52447176,   97.51399051,\n",
       "        106.27232787,  111.7775685 ,   97.01351409,   96.51303767])"
      ]
     },
     "execution_count": 15,
     "metadata": {},
     "output_type": "execute_result"
    }
   ],
   "source": [
    "pred"
   ]
  },
  {
   "cell_type": "code",
   "execution_count": 16,
   "metadata": {},
   "outputs": [
    {
     "data": {
      "text/html": [
       "<div>\n",
       "<table border=\"1\" class=\"dataframe\">\n",
       "  <thead>\n",
       "    <tr style=\"text-align: right;\">\n",
       "      <th></th>\n",
       "      <th>0</th>\n",
       "      <th>1</th>\n",
       "    </tr>\n",
       "  </thead>\n",
       "  <tbody>\n",
       "    <tr>\n",
       "      <th>0</th>\n",
       "      <td>2014-10-1</td>\n",
       "      <td>24</td>\n",
       "    </tr>\n",
       "    <tr>\n",
       "      <th>1</th>\n",
       "      <td>2014-10-2</td>\n",
       "      <td>71</td>\n",
       "    </tr>\n",
       "    <tr>\n",
       "      <th>2</th>\n",
       "      <td>2014-10-3</td>\n",
       "      <td>25</td>\n",
       "    </tr>\n",
       "    <tr>\n",
       "      <th>3</th>\n",
       "      <td>2014-10-6</td>\n",
       "      <td>32</td>\n",
       "    </tr>\n",
       "    <tr>\n",
       "      <th>4</th>\n",
       "      <td>2014-10-7</td>\n",
       "      <td>60</td>\n",
       "    </tr>\n",
       "  </tbody>\n",
       "</table>\n",
       "</div>"
      ],
      "text/plain": [
       "           0   1\n",
       "0  2014-10-1  24\n",
       "1  2014-10-2  71\n",
       "2  2014-10-3  25\n",
       "3  2014-10-6  32\n",
       "4  2014-10-7  60"
      ]
     },
     "execution_count": 16,
     "metadata": {},
     "output_type": "execute_result"
    }
   ],
   "source": [
    "sample.head()"
   ]
  },
  {
   "cell_type": "code",
   "execution_count": 17,
   "metadata": {
    "collapsed": true
   },
   "outputs": [],
   "source": [
    "sample[1]=pred"
   ]
  },
  {
   "cell_type": "code",
   "execution_count": 18,
   "metadata": {},
   "outputs": [
    {
     "data": {
      "text/html": [
       "<div>\n",
       "<table border=\"1\" class=\"dataframe\">\n",
       "  <thead>\n",
       "    <tr style=\"text-align: right;\">\n",
       "      <th></th>\n",
       "      <th>0</th>\n",
       "      <th>1</th>\n",
       "    </tr>\n",
       "  </thead>\n",
       "  <tbody>\n",
       "    <tr>\n",
       "      <th>0</th>\n",
       "      <td>2014-10-1</td>\n",
       "      <td>84.251365</td>\n",
       "    </tr>\n",
       "    <tr>\n",
       "      <th>1</th>\n",
       "      <td>2014-10-2</td>\n",
       "      <td>74.992552</td>\n",
       "    </tr>\n",
       "    <tr>\n",
       "      <th>2</th>\n",
       "      <td>2014-10-3</td>\n",
       "      <td>62.981117</td>\n",
       "    </tr>\n",
       "    <tr>\n",
       "      <th>3</th>\n",
       "      <td>2014-10-6</td>\n",
       "      <td>80.998269</td>\n",
       "    </tr>\n",
       "    <tr>\n",
       "      <th>4</th>\n",
       "      <td>2014-10-7</td>\n",
       "      <td>79.496839</td>\n",
       "    </tr>\n",
       "  </tbody>\n",
       "</table>\n",
       "</div>"
      ],
      "text/plain": [
       "           0          1\n",
       "0  2014-10-1  84.251365\n",
       "1  2014-10-2  74.992552\n",
       "2  2014-10-3  62.981117\n",
       "3  2014-10-6  80.998269\n",
       "4  2014-10-7  79.496839"
      ]
     },
     "execution_count": 18,
     "metadata": {},
     "output_type": "execute_result"
    }
   ],
   "source": [
    "sample.head()"
   ]
  },
  {
   "cell_type": "code",
   "execution_count": null,
   "metadata": {
    "collapsed": true
   },
   "outputs": [],
   "source": []
  }
 ],
 "metadata": {
  "anaconda-cloud": {},
  "kernelspec": {
   "display_name": "Python 3",
   "language": "python",
   "name": "python3"
  },
  "language_info": {
   "codemirror_mode": {
    "name": "ipython",
    "version": 3
   },
   "file_extension": ".py",
   "mimetype": "text/x-python",
   "name": "python",
   "nbconvert_exporter": "python",
   "pygments_lexer": "ipython3",
   "version": "3.7.3"
  }
 },
 "nbformat": 4,
 "nbformat_minor": 2
}
